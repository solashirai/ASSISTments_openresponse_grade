{
 "cells": [
  {
   "cell_type": "code",
   "execution_count": 1,
   "metadata": {
    "collapsed": true
   },
   "outputs": [],
   "source": [
    "import pandas as pd\n",
    "import numpy as np"
   ]
  },
  {
   "cell_type": "code",
   "execution_count": 2,
   "metadata": {},
   "outputs": [
    {
     "data": {
      "text/plain": [
       "46373"
      ]
     },
     "execution_count": 2,
     "metadata": {},
     "output_type": "execute_result"
    }
   ],
   "source": [
    "df = pd.read_csv('open_engageny_decoded.csv', encoding='latin1')\n",
    "len(df)"
   ]
  },
  {
   "cell_type": "code",
   "execution_count": 3,
   "metadata": {},
   "outputs": [
    {
     "data": {
      "text/plain": [
       "38773"
      ]
     },
     "execution_count": 3,
     "metadata": {},
     "output_type": "execute_result"
    }
   ],
   "source": [
    "df_teach_to_assignment = pd.read_csv('teacher_to_assignments.csv', \n",
    "                                     encoding='latin1', sep=';')\n",
    "removelist = []\n",
    "removeteachers = []\n",
    "df_teach_to_assignment.head()\n",
    "for teacherid in set(df_teach_to_assignment.teacher_id):\n",
    "    target_as_ids = df_teach_to_assignment[\n",
    "        df_teach_to_assignment['teacher_id'].isin([teacherid])]\n",
    "    target_problems = df[df['assignment_id'].isin(target_as_ids.id)]\n",
    "    # get score distributions\n",
    "    scores = target_problems.correct.values.tolist()\n",
    "    score_dist = [scores.count(0), scores.count(0.25), \n",
    "                  scores.count(0.5), scores.count(0.75), scores.count(1)]\n",
    "    if sum(score_dist) > 0:\n",
    "        score_dist = np.array(score_dist) / sum(score_dist)\n",
    "        var = np.var(score_dist)\n",
    "\n",
    "        if var > 0.1:\n",
    "            removelist.extend(list(set(target_as_ids.id)))\n",
    "\n",
    "df = df[~df['assignment_id'].isin(removelist)]\n",
    "len(df)"
   ]
  },
  {
   "cell_type": "code",
   "execution_count": 4,
   "metadata": {},
   "outputs": [
    {
     "data": {
      "text/plain": [
       "6996"
      ]
     },
     "execution_count": 4,
     "metadata": {},
     "output_type": "execute_result"
    }
   ],
   "source": [
    "import re\n",
    "\n",
    "removelist = []\n",
    "for pid in set(df.problem_id):\n",
    "    target_problems = df[df['problem_id'].isin([pid])]\n",
    "    problem_count = len(target_problems)\n",
    "    ans_texts = target_problems.answer_text.values.tolist()\n",
    "    # clean up string so that we can do proper comparisons\n",
    "    ans_texts = [str(ans).lower() for ans in ans_texts]\n",
    "    ans_texts = [re.sub(r'[â(),.!?\\-\\+\\=\\/\\*\\'\\`]', '', ans) for ans in ans_texts]\n",
    "    ans_texts = [re.sub('\\n', '', ans) for ans in ans_texts]\n",
    "    ans_texts = [''.join(ans.split()) for ans in ans_texts]\n",
    "    ans_counts = []\n",
    "    # count number of identical answers\n",
    "    for ans in set(ans_texts):\n",
    "        ans_counts.append(ans_texts.count(ans))\n",
    "    # if identical answer count for any particular answer > 10 or 25% of the responses, get rid of it.\n",
    "    # the exact cutoffs are slightly arbitrary\n",
    "    if max(ans_counts) >= int(problem_count/4):\n",
    "        removelist.append(pid)\n",
    "        \n",
    "df = df[~df['problem_id'].isin(removelist)]\n",
    "len(df)"
   ]
  },
  {
   "cell_type": "code",
   "execution_count": 5,
   "metadata": {},
   "outputs": [
    {
     "data": {
      "text/plain": [
       "4877"
      ]
     },
     "execution_count": 5,
     "metadata": {},
     "output_type": "execute_result"
    }
   ],
   "source": [
    "removelist = []\n",
    "for pid in set(df.problem_id):\n",
    "    target_problems = df[df['problem_id'].isin([pid])]\n",
    "    problem_count = len(target_problems)\n",
    "    ans_texts = target_problems.answer_text.values.tolist()\n",
    "    # responses that contain little to no alphabet characters are probably problems that require a\n",
    "    # single number / equation for the answer. count unique characters to detect number of responses that\n",
    "    # match this situation.\n",
    "    low_alpha_count = 0\n",
    "    for ans in ans_texts:\n",
    "        if isinstance(ans, float):\n",
    "            low_alpha_count += 1\n",
    "        else:\n",
    "            ans_chars = []\n",
    "            for c in ans.lower():\n",
    "                if c.isalpha():\n",
    "                    ans_chars.append(c)\n",
    "            ans_chars = list(set(ans_chars))\n",
    "            if len(ans_chars) < 4:\n",
    "                low_alpha_count += 1\n",
    "    # if >25% of responses contain little to no alphabet characters, remove.\n",
    "    if low_alpha_count > problem_count / 4:\n",
    "        removelist.append(pid)\n",
    "df = df[~df['problem_id'].isin(removelist)]\n",
    "len(df)"
   ]
  },
  {
   "cell_type": "code",
   "execution_count": 6,
   "metadata": {},
   "outputs": [
    {
     "name": "stderr",
     "output_type": "stream",
     "text": [
      "E:\\Python\\lib\\site-packages\\ipykernel\\__main__.py:7: SettingWithCopyWarning: \nA value is trying to be set on a copy of a slice from a DataFrame.\nTry using .loc[row_indexer,col_indexer] = value instead\n\nSee the caveats in the documentation: http://pandas.pydata.org/pandas-docs/stable/indexing.html#indexing-view-versus-copy\n"
     ]
    },
    {
     "data": {
      "text/plain": [
       "4701"
      ]
     },
     "execution_count": 6,
     "metadata": {},
     "output_type": "execute_result"
    }
   ],
   "source": [
    "import data_utils\n",
    "df.reset_index(drop=True)\n",
    "df_original = df\n",
    "# remove answers with scores that aren't regular\n",
    "df = df[(df['correct'] % 0.25 == 0)]\n",
    "# remove answers that are effectively blank (after applying some cleaning, so that answers like \"\\n\" can properly get filtered out\n",
    "df['answer_text'] = df['answer_text'].apply(lambda x: data_utils.clean_str(x))\n",
    "df = df[(df['answer_text'] != '')]\n",
    "df = df[(df['answer_text'] != 'nan')]\n",
    "# just doing this so that the string cleaning isn't saved for the final dataset\n",
    "df = df_original[df_original.index.isin(df.index)]\n",
    "len(df)"
   ]
  },
  {
   "cell_type": "code",
   "execution_count": null,
   "metadata": {},
   "outputs": [],
   "source": [
    "removelist = []\n",
    "for pid in set(df.problem_id):\n",
    "    target_problems = df[df['problem_id'].isin([pid])]\n",
    "    grades = set(target_problems.correct)\n",
    "    if len(grades) == 1:\n",
    "        removelist.append(pid)\n",
    "        print(pid)\n",
    "df = df[~df['problem_id'].isin(removelist)]\n",
    "len(df)"
   ]
  },
  {
   "cell_type": "code",
   "execution_count": null,
   "metadata": {},
   "outputs": [
    {
     "data": {
      "text/plain": [
       "4649"
      ]
     },
     "execution_count": 7,
     "metadata": {},
     "output_type": "execute_result"
    }
   ],
   "source": [
    "min_count = 10\n",
    "\n",
    "# filter by response count, >10\n",
    "df_counts_all = df['problem_id'].value_counts()\n",
    "df_counts = df[df['problem_id'].isin(df_counts_all.index[df_counts_all > min_count]).values].reset_index()\n",
    "\n",
    "df = df_counts\n",
    "len(df)"
   ]
  },
  {
   "cell_type": "code",
   "execution_count": 8,
   "metadata": {},
   "outputs": [
    {
     "data": {
      "text/plain": [
       "173"
      ]
     },
     "execution_count": 8,
     "metadata": {},
     "output_type": "execute_result"
    }
   ],
   "source": [
    "df.to_csv('filter_engageny_openresponse.csv')\n",
    "len(set(df.problem_id))"
   ]
  },
  {
   "cell_type": "code",
   "execution_count": null,
   "metadata": {},
   "outputs": [],
   "source": [
    ""
   ]
  }
 ],
 "metadata": {
  "kernelspec": {
   "display_name": "Python 2",
   "language": "python",
   "name": "python2"
  },
  "language_info": {
   "codemirror_mode": {
    "name": "ipython",
    "version": 2.0
   },
   "file_extension": ".py",
   "mimetype": "text/x-python",
   "name": "python",
   "nbconvert_exporter": "python",
   "pygments_lexer": "ipython2",
   "version": "2.7.6"
  }
 },
 "nbformat": 4,
 "nbformat_minor": 0
}